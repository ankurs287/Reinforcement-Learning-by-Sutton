{
 "cells": [
  {
   "cell_type": "code",
   "execution_count": 20,
   "metadata": {
    "collapsed": false
   },
   "outputs": [],
   "source": [
    "import matplotlib.pyplot as plt\n",
    "from multi_armed_bandit import MultiArmBandit\n",
    "import numpy as np\n",
    "from tqdm import tqdm"
   ]
  },
  {
   "cell_type": "code",
   "execution_count": 21,
   "metadata": {
    "collapsed": false
   },
   "outputs": [],
   "source": [
    "def simulate(bandit, runs, time):\n",
    "    abs_estimation_error = np.zeros((bandit.arms, runs, time))\n",
    "    bandit.best_action_counts = np.zeros((runs, time))\n",
    "    bandit.rewards = np.zeros((runs, time))\n",
    "    for r in tqdm(range(runs)):\n",
    "        bandit.reset()\n",
    "        for t in range(time):\n",
    "            bandit.time += 1\n",
    "            action = bandit.act()\n",
    "            if action == bandit.best_arm:\n",
    "                bandit.best_action_counts[r, t] = 1\n",
    "            reward = bandit.step(action)\n",
    "            bandit.rewards[r, t] = reward\n",
    "            for arm in range(bandit.arms):\n",
    "                abs_estimation_error[arm, r, t] = abs(bandit.q_estimate[arm] - bandit.q_true[arm])\n",
    "    bandit.rewards = bandit.rewards.mean(axis=0)  # taking average of all the runs\n",
    "    bandit.best_action_counts = bandit.best_action_counts.mean(axis=0)  # taking average of all the runs\n",
    "    abs_estimation_error = abs_estimation_error.mean(axis=1)  # taking average of all the runs\n",
    "    return bandit.rewards, bandit.best_action_counts, abs_estimation_error\n"
   ]
  },
  {
   "cell_type": "code",
   "execution_count": 22,
   "metadata": {},
   "outputs": [],
   "source": [
    "var = 1\n",
    "\n",
    "runs = 2000\n",
    "time = 1000\n",
    "arms = 10\n",
    "\n",
    "bandit0 = MultiArmBandit(arms, epsilon=0, var=var)\n",
    "bandit1 = MultiArmBandit(arms, epsilon=0.01, var=var)\n",
    "bandit2 = MultiArmBandit(arms, epsilon=0.1, var=var)"
   ]
  },
  {
   "cell_type": "code",
   "execution_count": 23,
   "metadata": {},
   "outputs": [],
   "source": [
    "rewards0, best_action_counts0, abs_estimation_error0 = simulate(bandit0, runs, time)\n",
    "rewards1, best_action_counts1, abs_estimation_error1 = simulate(bandit1, runs, time)\n",
    "rewards2, best_action_counts2, abs_estimation_error2 = simulate(bandit2, runs, time)\n"
   ]
  },
  {
   "cell_type": "code",
   "execution_count": 24,
   "metadata": {},
   "outputs": [],
   "source": [
    "\n",
    "\n",
    "plt.figure(figsize=(20, 30))\n",
    "\n",
    "# average reward vs steps\n",
    "plt.subplot(3, 2, 1)\n",
    "plt.xlabel('steps')\n",
    "plt.ylabel('average reward')\n",
    "\n",
    "plt.plot(rewards0, label='epsilon = 0')\n",
    "plt.plot(rewards1, label='epsilon = 0.01')\n",
    "plt.plot(rewards2, label='epsilon = 0.1')\n",
    "plt.legend()\n",
    "\n",
    "# optimal action vs steps\n",
    "plt.subplot(3, 2, 2)\n",
    "plt.xlabel('steps')\n",
    "plt.ylabel('% optimal action')\n",
    "\n",
    "plt.plot(best_action_counts0, label='epsilon = 0')\n",
    "plt.plot(best_action_counts1, label='epsilon = 0.01')\n",
    "plt.plot(best_action_counts2, label='epsilon = 0.1')\n",
    "plt.legend()\n",
    "\n",
    "# average absolute error in the estimate vs steps for epsilon = 0\n",
    "plt.subplot(3, 2, 3)\n",
    "plt.xlabel('steps')\n",
    "plt.ylabel('average absolute error in the estimate for epsilson = 0')\n",
    "for arm in range(arms):\n",
    "    plt.plot(abs_estimation_error0[arm], label='arm = %s' % arm)\n",
    "plt.legend()\n",
    "\n",
    "# average absolute error in the estimate vs steps for epsilon = 0.01\n",
    "plt.subplot(3, 2, 4)\n",
    "plt.xlabel('steps')\n",
    "plt.ylabel('average absolute error in the estimate for epsilson = 0.01')\n",
    "for arm in range(arms):\n",
    "    plt.plot(abs_estimation_error1[arm], label='arm = %s' % arm)\n",
    "plt.legend()\n",
    "\n",
    "# average absolute error in the estimate vs steps for epsilon = 0.1\n",
    "plt.subplot(3, 2, 5)\n",
    "plt.xlabel('steps')\n",
    "plt.ylabel('average absolute error in the estimate for epsilson = 0.1')\n",
    "for arm in range(arms):\n",
    "    plt.plot(abs_estimation_error2[arm], label='arm = %s' % arm)\n",
    "plt.legend()\n",
    "\n",
    "plt.savefig('./q1.png')\n",
    "plt.close()\n"
   ]
  },
  {
   "cell_type": "code",
   "execution_count": 25,
   "metadata": {},
   "outputs": [],
   "source": [
    "var = 2\n",
    "\n",
    "runs = 2000\n",
    "time = 1000\n",
    "arms = 10\n",
    "\n",
    "bandit0 = MultiArmBandit(arms, epsilon=0, var=var)\n",
    "bandit1 = MultiArmBandit(arms, epsilon=0.01, var=var)\n",
    "bandit2 = MultiArmBandit(arms, epsilon=0.1, var=var)\n"
   ]
  },
  {
   "cell_type": "code",
   "execution_count": 27,
   "metadata": {},
   "outputs": [],
   "source": [
    "rewards0, best_action_counts0, abs_estimation_error0 = simulate(bandit0, runs, time)\n",
    "rewards1, best_action_counts1, abs_estimation_error1 = simulate(bandit1, runs, time)\n",
    "rewards2, best_action_counts2, abs_estimation_error2 = simulate(bandit2, runs, time)\n"
   ]
  },
  {
   "cell_type": "code",
   "execution_count": 28,
   "metadata": {},
   "outputs": [],
   "source": [
    "plt.figure(figsize=(20, 30))\n",
    "\n",
    "# average reward vs steps\n",
    "plt.subplot(3, 2, 1)\n",
    "plt.xlabel('steps')\n",
    "plt.ylabel('average reward')\n",
    "\n",
    "plt.plot(rewards0, label='epsilon = 0')\n",
    "plt.plot(rewards1, label='epsilon = 0.01')\n",
    "plt.plot(rewards2, label='epsilon = 0.1')\n",
    "plt.legend()\n",
    "\n",
    "# optimal action vs steps\n",
    "plt.subplot(3, 2, 2)\n",
    "plt.xlabel('steps')\n",
    "plt.ylabel('% optimal action')\n",
    "\n",
    "plt.plot(best_action_counts0, label='epsilon = 0')\n",
    "plt.plot(best_action_counts1, label='epsilon = 0.01')\n",
    "plt.plot(best_action_counts2, label='epsilon = 0.1')\n",
    "plt.legend()\n",
    "\n",
    "# average absolute error in the estimate vs steps for epsilon = 0\n",
    "plt.subplot(3, 2, 3)\n",
    "plt.xlabel('steps')\n",
    "plt.ylabel('average absolute error in the estimate for epsilson = 0')\n",
    "for arm in range(arms):\n",
    "    plt.plot(abs_estimation_error0[arm], label='arm = %s' % arm)\n",
    "plt.legend()\n",
    "\n",
    "# average absolute error in the estimate vs steps for epsilon = 0.01\n",
    "plt.subplot(3, 2, 4)\n",
    "plt.xlabel('steps')\n",
    "plt.ylabel('average absolute error in the estimate for epsilson = 0.01')\n",
    "for arm in range(arms):\n",
    "    plt.plot(abs_estimation_error1[arm], label='arm = %s' % arm)\n",
    "plt.legend()\n",
    "\n",
    "# average absolute error in the estimate vs steps for epsilon = 0.1\n",
    "plt.subplot(3, 2, 5)\n",
    "plt.xlabel('steps')\n",
    "plt.ylabel('average absolute error in the estimate for epsilson = 0.1')\n",
    "for arm in range(arms):\n",
    "    plt.plot(abs_estimation_error2[arm], label='arm = %s' % arm)\n",
    "plt.legend()\n",
    "\n",
    "plt.savefig('./q2.png')\n",
    "plt.close()\n"
   ]
  },
  {
   "cell_type": "code",
   "execution_count": null,
   "metadata": {},
   "outputs": [],
   "source": []
  }
 ],
 "metadata": {
  "kernelspec": {
   "display_name": "Python 2",
   "language": "python",
   "name": "python2"
  },
  "language_info": {
   "codemirror_mode": {
    "name": "ipython",
    "version": 2
   },
   "file_extension": ".py",
   "mimetype": "text/x-python",
   "name": "python",
   "nbconvert_exporter": "python",
   "pygments_lexer": "ipython2",
   "version": "2.7.6"
  }
 },
 "nbformat": 4,
 "nbformat_minor": 0
}
