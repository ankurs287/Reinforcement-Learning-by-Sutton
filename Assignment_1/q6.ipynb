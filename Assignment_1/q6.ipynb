{
 "cells": [
  {
   "cell_type": "code",
   "execution_count": 1,
   "metadata": {
    "collapsed": true
   },
   "outputs": [],
   "source": [
    "import matplotlib.pyplot as plt\n",
    "from multi_armed_bandit import MultiArmBandit\n",
    "import multi_armed_bandit\n",
    "import numpy as np\n",
    "from tqdm import tqdm"
   ]
  },
  {
   "cell_type": "code",
   "execution_count": 2,
   "metadata": {},
   "outputs": [],
   "source": [
    "def simulate(bandit, runs, time):\n",
    "    bandit.best_action_counts = np.zeros((runs, time))\n",
    "    bandit.rewards = np.zeros((runs, time))\n",
    "    for r in tqdm(range(runs)):\n",
    "        bandit.reset()\n",
    "        for t in range(time):\n",
    "            bandit.time += 1\n",
    "            action = bandit.act()\n",
    "            if action == bandit.best_arm:\n",
    "                bandit.best_action_counts[r, t] = 1\n",
    "            reward = bandit.step(action)\n",
    "            bandit.rewards[r, t] = reward\n",
    "    bandit.rewards = bandit.rewards.mean(axis=0)  # taking average of all the runs\n",
    "    bandit.best_action_counts = bandit.best_action_counts.mean(axis=0)  # taking average of all the runs\n",
    "    return bandit.rewards, bandit.best_action_counts\n"
   ]
  },
  {
   "cell_type": "code",
   "execution_count": 3,
   "metadata": {},
   "outputs": [],
   "source": [
    "runs = 2000\n",
    "time = 1000\n",
    "arms = 10\n",
    "\n",
    "bandit0 = MultiArmBandit(arms, epsilon=0.1)\n",
    "bandit1 = MultiArmBandit(arms, method=multi_armed_bandit.UPPER_BOUND_CONFIDENCE, confidence=2)\n",
    "bandit2 = MultiArmBandit(arms, method=multi_armed_bandit.UPPER_BOUND_CONFIDENCE, confidence=1)\n",
    "bandit3 = MultiArmBandit(arms, method=multi_armed_bandit.UPPER_BOUND_CONFIDENCE, confidence=4)\n"
   ]
  },
  {
   "cell_type": "code",
   "execution_count": 4,
   "metadata": {},
   "outputs": [],
   "source": [
    "rewards0, _ = simulate(bandit0, runs, time)\n",
    "rewards1, _ = simulate(bandit1, runs, time)\n",
    "rewards2, _ = simulate(bandit2, runs, time)\n",
    "rewards3, _ = simulate(bandit3, runs, time)\n"
   ]
  },
  {
   "cell_type": "code",
   "execution_count": 5,
   "metadata": {},
   "outputs": [],
   "source": [
    "plt.figure(figsize=(10, 30))\n",
    "# average reward vs steps for c = 2\n",
    "plt.subplot(3, 1, 1)\n",
    "plt.xlabel('steps')\n",
    "plt.ylabel('average reward')\n",
    "\n",
    "plt.plot(rewards0, label='epsilon=0.1 greedy')\n",
    "plt.plot(rewards1, label='UCB with c=2')\n",
    "plt.legend()\n",
    "\n",
    "# average reward vs steps for c = 1\n",
    "plt.subplot(3, 1, 2)\n",
    "plt.xlabel('steps')\n",
    "plt.ylabel('average reward')\n",
    "\n",
    "plt.plot(rewards0, label='epsilon=0.1 greedy')\n",
    "plt.plot(rewards2, label='UCB with c=1')\n",
    "plt.legend()\n",
    "\n",
    "# average reward vs steps for c = 4\n",
    "plt.subplot(3, 1, 3)\n",
    "plt.xlabel('steps')\n",
    "plt.ylabel('average reward')\n",
    "\n",
    "plt.plot(rewards0, label='epsilon=0.1 greedy')\n",
    "plt.plot(rewards3, label='UCB with c=4')\n",
    "plt.legend()\n",
    "\n",
    "plt.savefig('./q6.png')\n"
   ]
  },
  {
   "cell_type": "code",
   "execution_count": null,
   "metadata": {},
   "outputs": [],
   "source": []
  }
 ],
 "metadata": {
  "kernelspec": {
   "display_name": "Python 2",
   "language": "python",
   "name": "python2"
  },
  "language_info": {
   "codemirror_mode": {
    "name": "ipython",
    "version": 2
   },
   "file_extension": ".py",
   "mimetype": "text/x-python",
   "name": "python",
   "nbconvert_exporter": "python",
   "pygments_lexer": "ipython2",
   "version": "2.7.6"
  }
 },
 "nbformat": 4,
 "nbformat_minor": 0
}
