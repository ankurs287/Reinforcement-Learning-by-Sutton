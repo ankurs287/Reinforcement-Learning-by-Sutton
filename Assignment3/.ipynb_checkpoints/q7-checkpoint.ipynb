{
 "cells": [
  {
   "cell_type": "code",
   "execution_count": 3,
   "metadata": {
    "collapsed": true
   },
   "outputs": [],
   "source": [
    "import matplotlib.pyplot as plt\n",
    "import numpy as np\n",
    "from tqdm import tqdm"
   ]
  },
  {
   "cell_type": "code",
   "execution_count": 4,
   "metadata": {},
   "outputs": [],
   "source": [
    "COLS = 12\n",
    "ROWS = 4\n",
    "START_STATE = 36\n",
    "EPSILON = 0.1\n",
    "ACTIONS = [[0, 1], [0, -1], [1, 0], [-1, 0]]  # right, left, down, up\n",
    "ALPHA = 0.5"
   ]
  },
  {
   "cell_type": "code",
   "execution_count": 5,
   "metadata": {},
   "outputs": [],
   "source": [
    "def is_terminal(s):\n",
    "    if s == (COLS * ROWS) - 1:\n",
    "        return True\n",
    "    return False\n",
    "\n",
    "\n",
    "def is_cliff(i, j):\n",
    "    if i == 3 and 1 <= j <= COLS - 2:\n",
    "        return True\n",
    "    return False\n"
   ]
  },
  {
   "cell_type": "code",
   "execution_count": 6,
   "metadata": {},
   "outputs": [],
   "source": [
    "# Maps indices of 2D array to 1D array index\n",
    "def map_2d_to_1d(i, j):\n",
    "    return i * COLS + j\n",
    "\n",
    "\n",
    "# Maps 1D array index to 2D array indices\n",
    "def map_1d_to_2d(s):\n",
    "    i = s // COLS\n",
    "    j = s % COLS\n",
    "    return i, j\n"
   ]
  },
  {
   "cell_type": "code",
   "execution_count": 7,
   "metadata": {},
   "outputs": [],
   "source": [
    "def policy(s, q):\n",
    "    if np.random.uniform() <= EPSILON:\n",
    "        a = np.random.randint(4)\n",
    "        return a\n",
    "    else:\n",
    "        return np.argmax(q[s])"
   ]
  },
  {
   "cell_type": "code",
   "execution_count": 8,
   "metadata": {},
   "outputs": [],
   "source": [
    "def step(s, a):\n",
    "    action = ACTIONS[a]\n",
    "    i, j = map_1d_to_2d(s)\n",
    "    i_ = i + action[0]\n",
    "    j_ = j + action[1]\n",
    "    if i_ < 0 or j_ < 0 or j_ >= COLS or i_ >= ROWS:\n",
    "        return s, -1\n",
    "    if is_cliff(i_, j_):\n",
    "        return START_STATE, -100\n",
    "    return map_2d_to_1d(i_, j_), -1"
   ]
  },
  {
   "cell_type": "code",
   "execution_count": 9,
   "metadata": {},
   "outputs": [],
   "source": [
    "def sarsa(n_episodes):\n",
    "    q = np.zeros((ROWS * COLS, 4))\n",
    "    rewards = np.zeros(n_episodes)\n",
    "    for i in range(n_episodes):\n",
    "        s = START_STATE\n",
    "        a = policy(s, q)\n",
    "        while True:\n",
    "            s_, r = step(s, a)\n",
    "            rewards[i] += r\n",
    "            a_ = policy(s_, q)\n",
    "            q[s, a] += ALPHA * (r + q[s_, a_] - q[s, a])\n",
    "            s = s_\n",
    "            a = a_\n",
    "            if is_terminal(s):\n",
    "                break\n",
    "        rewards[i] = max(rewards[i], -100)\n",
    "    return rewards"
   ]
  },
  {
   "cell_type": "code",
   "execution_count": 10,
   "metadata": {},
   "outputs": [],
   "source": [
    "def q_learning(n_episodes):\n",
    "    rewards = np.zeros(n_episodes)\n",
    "    q = np.zeros((ROWS * COLS, 4))\n",
    "    for i in range(n_episodes):\n",
    "        s = START_STATE\n",
    "        while True:\n",
    "            a = policy(s, q)\n",
    "            s_, r = step(s, a)\n",
    "            rewards[i] += r\n",
    "            q[s, a] += ALPHA * (r + np.max(q[s_]) - q[s, a])\n",
    "            s = s_\n",
    "            if is_terminal(s):\n",
    "                break\n",
    "        rewards[i] = max(rewards[i], -100)\n",
    "    return rewards"
   ]
  },
  {
   "cell_type": "code",
   "execution_count": 11,
   "metadata": {},
   "outputs": [
    {
     "name": "stderr",
     "output_type": "stream",
     "text": [
      "100%|██████████| 200/200 [00:53<00:00,  3.76it/s]\n"
     ]
    }
   ],
   "source": [
    "EPISODES = 500\n",
    "runs = 200\n",
    "\n",
    "sum_sarsa = np.zeros((runs, EPISODES))\n",
    "sum_q_learning = np.zeros((runs, EPISODES))\n",
    "for r in tqdm(range(runs)):\n",
    "    sum_sarsa[r] = sarsa(EPISODES)\n",
    "    sum_q_learning[r] = q_learning(EPISODES)\n",
    "\n",
    "plt.plot(np.mean(sum_sarsa, axis=0), label='Sarsa')\n",
    "plt.plot(np.mean(sum_q_learning, axis=0), label='Q-Learning')\n",
    "plt.xlabel('Episodes')\n",
    "plt.ylabel('Sum of rewards during episode')\n",
    "plt.ylim([-100, 0])\n",
    "plt.legend()\n",
    "plt.savefig('q7.png')\n",
    "plt.close()"
   ]
  },
  {
   "cell_type": "code",
   "execution_count": 68,
   "metadata": {},
   "outputs": [],
   "source": []
  },
  {
   "cell_type": "code",
   "execution_count": null,
   "metadata": {},
   "outputs": [],
   "source": []
  }
 ],
 "metadata": {
  "kernelspec": {
   "display_name": "Python 3",
   "language": "python",
   "name": "python3"
  },
  "language_info": {
   "codemirror_mode": {
    "name": "ipython",
    "version": 3
   },
   "file_extension": ".py",
   "mimetype": "text/x-python",
   "name": "python",
   "nbconvert_exporter": "python",
   "pygments_lexer": "ipython3",
   "version": "3.6.5"
  }
 },
 "nbformat": 4,
 "nbformat_minor": 1
}
