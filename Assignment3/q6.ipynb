{
 "cells": [
  {
   "cell_type": "code",
   "execution_count": 15,
   "metadata": {
    "collapsed": true
   },
   "outputs": [],
   "source": [
    "import numpy as np\n",
    "import matplotlib.pyplot as plt\n",
    "from tqdm import tqdm"
   ]
  },
  {
   "cell_type": "code",
   "execution_count": 16,
   "metadata": {},
   "outputs": [],
   "source": [
    "actions = [-1, +1]\n",
    "TRUE_STATE_VALUES = np.array([0, 1 / 6, 2 / 6, 3 / 6, 4 / 6, 5 / 6, 0])\n",
    "\n",
    "\n",
    "def step(state, action):\n",
    "    reward = 0\n",
    "    if state == 5 and action == +1:\n",
    "        reward = 1\n",
    "    return state + action, reward\n",
    "\n",
    "\n",
    "def is_terminal(state):\n",
    "    if state == 6 or state == 0:\n",
    "        return True\n",
    "    return False\n"
   ]
  },
  {
   "cell_type": "code",
   "execution_count": 17,
   "metadata": {},
   "outputs": [],
   "source": [
    "def td0(n_episodes=100, alpha=0.1):\n",
    "    episodes = [1, 10, 100]\n",
    "    state_values = np.zeros(7)\n",
    "    state_values[1:6] = 0.5\n",
    "    if alpha == 0.1:\n",
    "        plt.figure()\n",
    "        plt.plot(state_values[1:6], label=0)\n",
    "    rmse = np.zeros(n_episodes + 1)\n",
    "    for i in range(0, n_episodes + 1):\n",
    "        state = 3\n",
    "        while True:\n",
    "            action = np.random.choice(actions)\n",
    "            next_state, reward = step(state, action)\n",
    "            state_values[state] += alpha * (reward + state_values[next_state] - state_values[state])\n",
    "            state = next_state\n",
    "            if is_terminal(state):\n",
    "                break\n",
    "\n",
    "        rmse[i] = np.sqrt(np.sum(np.power(TRUE_STATE_VALUES - state_values, 2)) / 5.0)\n",
    "\n",
    "        if i in episodes and alpha == 0.1:\n",
    "            plt.plot(state_values[1:6], label=i)\n",
    "    if alpha == 0.1:\n",
    "        plt.plot(TRUE_STATE_VALUES[1:6], label='TRUE VALUE')\n",
    "        plt.xlabel('state')\n",
    "        plt.ylabel('estimated value')\n",
    "        plt.legend()\n",
    "        plt.savefig('q6_1.png')\n",
    "        plt.close()\n",
    "    return rmse\n"
   ]
  },
  {
   "cell_type": "code",
   "execution_count": 18,
   "metadata": {},
   "outputs": [],
   "source": [
    "def alpha_mc(n_episodes=100, alpha=0.01):\n",
    "    state_values = np.zeros(7)\n",
    "    state_values[1:6] = 0.5\n",
    "    rmse = np.zeros(n_episodes + 1)\n",
    "    for i in range(n_episodes + 1):\n",
    "        state = 3\n",
    "        episode = []\n",
    "        while True:\n",
    "            action = np.random.choice(actions)\n",
    "            next_state, reward = step(state, action)\n",
    "            episode.append((state, action, reward))\n",
    "            state = next_state\n",
    "            if is_terminal(state):\n",
    "                break\n",
    "        g = 0\n",
    "        for t in range(len(episode) - 1, -1, -1):\n",
    "            state, action, reward = episode[t]\n",
    "            g += reward\n",
    "            state_values[state] += alpha * (g - state_values[state])\n",
    "        rmse[i] = np.sqrt(np.sum(np.power(TRUE_STATE_VALUES - state_values, 2)) / 5.0)\n",
    "    return rmse\n"
   ]
  },
  {
   "cell_type": "code",
   "execution_count": 19,
   "metadata": {},
   "outputs": [
    {
     "name": "stderr",
     "output_type": "stream",
     "text": [
      "100%|██████████| 100/100 [00:15<00:00,  6.61it/s]\n",
      "100%|██████████| 100/100 [00:01<00:00, 96.66it/s]\n",
      "100%|██████████| 100/100 [00:01<00:00, 98.17it/s]\n",
      "100%|██████████| 100/100 [00:01<00:00, 98.43it/s]\n",
      "100%|██████████| 100/100 [00:01<00:00, 97.87it/s]\n",
      "100%|██████████| 100/100 [00:01<00:00, 96.99it/s]\n",
      "100%|██████████| 100/100 [00:01<00:00, 99.62it/s]\n"
     ]
    }
   ],
   "source": [
    "td_alphas = [0.1, 0.15, 0.05]\n",
    "EPISODES = 100\n",
    "plt.figure()\n",
    "runs = 100\n",
    "for alpha in td_alphas:\n",
    "    td_rmse = np.zeros((runs, EPISODES + 1))\n",
    "    for i in tqdm(range(runs)):\n",
    "        td_rmse[i] = td0(n_episodes=EPISODES, alpha=alpha)\n",
    "\n",
    "    plt.plot(np.mean(td_rmse, axis=0), label='TD with alpha=' + str(alpha))\n",
    "\n",
    "mc_alphas = [0.01, 0.02, 0.04, 0.03]\n",
    "for alpha in mc_alphas:\n",
    "    mc_rmse = np.zeros((runs, EPISODES + 1))\n",
    "    for i in tqdm(range(runs)):\n",
    "        mc_rmse[i] = alpha_mc(n_episodes=EPISODES, alpha=alpha)\n",
    "\n",
    "    plt.plot(np.mean(mc_rmse, axis=0), label='MC with alpha=' + str(alpha))\n",
    "\n",
    "plt.xlabel('Walks/ Episodes')\n",
    "plt.ylabel('Empirical RMSE, averaged over states')\n",
    "plt.legend()\n",
    "plt.savefig('q6_2.png')\n",
    "plt.close()"
   ]
  },
  {
   "cell_type": "code",
   "execution_count": 31,
   "metadata": {},
   "outputs": [],
   "source": [
    "\n",
    "\n"
   ]
  },
  {
   "cell_type": "code",
   "execution_count": null,
   "metadata": {},
   "outputs": [],
   "source": []
  }
 ],
 "metadata": {
  "kernelspec": {
   "display_name": "Python 3",
   "language": "python",
   "name": "python3"
  },
  "language_info": {
   "codemirror_mode": {
    "name": "ipython",
    "version": 3
   },
   "file_extension": ".py",
   "mimetype": "text/x-python",
   "name": "python",
   "nbconvert_exporter": "python",
   "pygments_lexer": "ipython3",
   "version": "3.6.6"
  }
 },
 "nbformat": 4,
 "nbformat_minor": 1
}
