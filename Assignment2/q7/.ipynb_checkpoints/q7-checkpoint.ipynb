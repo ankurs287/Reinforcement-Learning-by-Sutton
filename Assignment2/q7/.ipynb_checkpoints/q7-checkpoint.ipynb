{
 "cells": [
  {
   "cell_type": "code",
   "execution_count": 15,
   "metadata": {},
   "outputs": [],
   "source": [
    "import numpy as np\n",
    "import matplotlib.pyplot as plt\n",
    "from math import exp, factorial"
   ]
  },
  {
   "cell_type": "code",
   "execution_count": 16,
   "metadata": {},
   "outputs": [],
   "source": [
    "MAX_CARS = 20\n",
    "states = np.zeros((MAX_CARS + 1, MAX_CARS + 1))\n",
    "actions = np.arange(-MAX_CARS, MAX_CARS + 1)"
   ]
  },
  {
   "cell_type": "code",
   "execution_count": 17,
   "metadata": {},
   "outputs": [],
   "source": [
    "RENT_REWARD = 10\n",
    "MOVE_COST = 2\n",
    "MAX_MOVES = 5\n",
    "EXPECTED_REQUESTS = [3, 4]\n",
    "EXPECTED_RETURNS = [3, 2]\n",
    "k = 0.9\n",
    "MAX_REQUESTS = 8\n",
    "MAX_RETURNS = 8"
   ]
  },
  {
   "cell_type": "code",
   "execution_count": 18,
   "metadata": {},
   "outputs": [],
   "source": [
    "poisson_pmf = np.zeros((15, 15))\n",
    "poisson_pmf.fill(-1)"
   ]
  },
  {
   "cell_type": "code",
   "execution_count": 19,
   "metadata": {},
   "outputs": [],
   "source": [
    "def poisson(l, n):\n",
    "    global poisson_pmf\n",
    "    if poisson_pmf[l, n] != -1:\n",
    "        return poisson_pmf[l, n]\n",
    "    poisson_pmf[l, n] = exp(-l) * pow(l, n) / factorial(n)\n",
    "    return poisson_pmf[l, n]\n"
   ]
  },
  {
   "cell_type": "code",
   "execution_count": 20,
   "metadata": {},
   "outputs": [],
   "source": [
    "def step(i, j, action, value):\n",
    "    cars_moved = action\n",
    "    expected_return = -abs(cars_moved if cars_moved <= 0 else cars_moved - 1) * MOVE_COST\n",
    "\n",
    "    for d1 in range(MAX_REQUESTS + 1):\n",
    "        for d2 in range(MAX_REQUESTS + 1):\n",
    "            for e1 in range(MAX_RETURNS + 1):\n",
    "                for e2 in range(MAX_RETURNS + 1):\n",
    "                    p = poisson(EXPECTED_REQUESTS[0], d1) * poisson(EXPECTED_REQUESTS[1], d2) * poisson(\n",
    "                        EXPECTED_RETURNS[0], e1) * poisson(EXPECTED_RETURNS[1], e2)\n",
    "\n",
    "                    # Cars after moving\n",
    "                    i_ = int(min(i - cars_moved, MAX_CARS))\n",
    "                    j_ = int(min(j + cars_moved, MAX_CARS))\n",
    "\n",
    "                    d1_ = int(min(d1, i_))\n",
    "                    d2_ = int(min(d2, j_))\n",
    "                    # Remaining cars after renting them\n",
    "                    i_ -= d1_\n",
    "                    j_ -= d2_\n",
    "\n",
    "                    # Cars after returns\n",
    "                    i_ = int(min(i_ + EXPECTED_RETURNS[0], MAX_CARS))\n",
    "                    j_ = int(min(j_ + EXPECTED_RETURNS[1], MAX_CARS))\n",
    "\n",
    "                    reward = (d1_ + d2_) * RENT_REWARD\n",
    "                    if i_ > 10:\n",
    "                        reward -= 4\n",
    "                    if j_ > 10:\n",
    "                        reward -= 4\n",
    "\n",
    "                    expected_return += p * (reward + k * value[i_, j_])\n",
    "\n",
    "    return expected_return\n"
   ]
  },
  {
   "cell_type": "code",
   "execution_count": 21,
   "metadata": {},
   "outputs": [],
   "source": [
    "def policy_iteration():\n",
    "    iterations = 0\n",
    "    value = np.zeros(states.shape)\n",
    "    pi = np.zeros(states.shape, dtype=np.int)  # store the action to be taken at a particular state\n",
    "\n",
    "    while True:\n",
    "\n",
    "        print(\"iterations: \", iterations)\n",
    "\n",
    "        # Policy Evaluation\n",
    "        theta = 1e-5  # parameter to check convergence\n",
    "        count = 0\n",
    "        print(\"count: \", end=\" \")\n",
    "        while True:\n",
    "            delta = 0.\n",
    "            count += 1\n",
    "            print(count, end=\" \")\n",
    "            for i in range(MAX_CARS + 1):\n",
    "                for j in range(MAX_CARS + 1):\n",
    "                    v = value[i, j]  # old value\n",
    "                    value[i, j] = step(i, j, pi[i, j], value)\n",
    "                    delta = max(delta, abs(v - value[i, j]))\n",
    "\n",
    "            if delta < theta:\n",
    "                print()\n",
    "                break\n",
    "\n",
    "        # Policy Improvement\n",
    "        optimal_policy = True\n",
    "        for i in range(MAX_CARS + 1):\n",
    "            for j in range(MAX_CARS + 1):\n",
    "                old_policy = pi[i, j].copy()\n",
    "                q_ = []\n",
    "                for action in actions:\n",
    "                    if (0 <= action <= i) or (action < 0 and j >= abs(action)):\n",
    "                        q_.append(step(i, j, action, value))\n",
    "                    else:\n",
    "                        q_.append(-float('inf'))\n",
    "                pi[i, j] = actions[np.argmax(q_)]\n",
    "\n",
    "                if not pi[i, j] == old_policy:\n",
    "                    optimal_policy = False\n",
    "\n",
    "        if optimal_policy:\n",
    "            return value, pi\n",
    "        iterations += 1\n"
   ]
  },
  {
   "cell_type": "code",
   "execution_count": null,
   "metadata": {},
   "outputs": [
    {
     "name": "stdout",
     "output_type": "stream",
     "text": [
      "iterations:  0\n",
      "count:  1 "
     ]
    }
   ],
   "source": [
    "value, pi = policy_iteration()\n"
   ]
  },
  {
   "cell_type": "code",
   "execution_count": null,
   "metadata": {},
   "outputs": [],
   "source": [
    "print('Optimal Policy:')\n",
    "for i in range(MAX_CARS + 1):\n",
    "    for j in range(MAX_CARS + 1):\n",
    "        print(pi[i, j], end=\"    \" if pi[i, j] > 0 else \"   \")\n",
    "    print()\n",
    "\n",
    "print()\n",
    "\n",
    "print('Optimal Value Function:')\n",
    "for i in range(MAX_CARS + 1):\n",
    "    for j in range(MAX_CARS + 1):\n",
    "        print(round(value[i, j], 1), end=\"    \" if value[i, j] > 0 else \"   \")\n",
    "    print()\n"
   ]
  },
  {
   "cell_type": "code",
   "execution_count": 47,
   "metadata": {},
   "outputs": [],
   "source": []
  },
  {
   "cell_type": "code",
   "execution_count": 47,
   "metadata": {},
   "outputs": [],
   "source": []
  },
  {
   "cell_type": "code",
   "execution_count": null,
   "metadata": {},
   "outputs": [],
   "source": []
  }
 ],
 "metadata": {
  "kernelspec": {
   "display_name": "Python 3",
   "language": "python",
   "name": "python3"
  }
 },
 "nbformat": 4,
 "nbformat_minor": 1
}
