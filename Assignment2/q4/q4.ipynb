{
 "cells": [
  {
   "cell_type": "code",
   "execution_count": 19,
   "metadata": {
    "collapsed": true
   },
   "outputs": [],
   "source": [
    "import numpy as np\n",
    "from scipy import optimize as opt"
   ]
  },
  {
   "cell_type": "code",
   "execution_count": 20,
   "metadata": {},
   "outputs": [],
   "source": [
    "rows = cols = 5\n",
    "states = rows * cols\n",
    "actions = [[0, 1], [0, -1], [1, 0], [-1, 0]]  # right, left, down, up\n",
    "actions_size = len(actions)"
   ]
  },
  {
   "cell_type": "code",
   "execution_count": 21,
   "metadata": {},
   "outputs": [],
   "source": [
    "# Maps indices of 2D array to 1D array index\n",
    "def map_2d_to_1d(i, j, cols=cols):\n",
    "    return i * cols + j\n",
    "\n",
    "# Maps 1D array index to 2D array indices\n",
    "def map_1d_to_2d(s):\n",
    "    i = s // cols\n",
    "    j = s % cols\n",
    "    return i, j\n"
   ]
  },
  {
   "cell_type": "code",
   "execution_count": 22,
   "metadata": {},
   "outputs": [],
   "source": [
    "# Given current state and action taken, returns next state and reward \n",
    "def step(s, action):\n",
    "    i, j = map_1d_to_2d(s) # current state in the grid world\n",
    "\n",
    "    # if current state is A, return A' and reward of +10\n",
    "    if i == 0 and j == 1:\n",
    "        return map_2d_to_1d(4, 1), 10.\n",
    "\n",
    "    # if current state is B, return B' and reward of +5\n",
    "    if i == 0 and j == 3:\n",
    "        return map_2d_to_1d(2, 3), 5.\n",
    "\n",
    "    i_ = i + action[0]\n",
    "    j_ = j + action[1]\n",
    "\n",
    "    # if not in (A or B) and agent doesn't jumps out of the grid, return next state(i_, j_), and reward value of 0\n",
    "    if 0 <= i_ <= 4 and 0 <= j_ <= 4:\n",
    "        return map_2d_to_1d(i_, j_), 0.\n",
    "    # if not in (A or B) and agent jumps out of the grid, return current state(i, j), and reward value of -1\n",
    "    return map_2d_to_1d(i, j), -1.\n"
   ]
  },
  {
   "cell_type": "code",
   "execution_count": 23,
   "metadata": {},
   "outputs": [],
   "source": [
    "k = 0.9  # discount rate\n",
    "\n",
    "# Since we need to solve the |states| bellman optimality eqns which are non-linear. \n",
    "# We will convert our system of non-linear equations to system of linear inequalities\n",
    "# s.t. we will have 4 * |states| linear inequalities and solve them, by finding the minimum\n",
    "# value which satisfies all the inequalities, using scipy optimize library.\n",
    "\n",
    "# Hence, we will solve the system: Ax >= b\n",
    "# where A is (4 * |states|) x |states|2D matrix containing coeff. of value function of each state\n",
    "A = np.zeros((4 * states, states))\n",
    "b = np.zeros(4 * states)\n",
    "\n",
    "for s in range(states):\n",
    "    # for each row of A, calculate the coefficient of v(s) for all s\n",
    "    for a in range(actions_size):\n",
    "        s_, reward = step(s, actions[a])\n",
    "        A[4 * s + a, s] -= 1\n",
    "        A[4 * s + a, s_] += k\n",
    "        b[4 * s + a] -= reward\n"
   ]
  },
  {
   "cell_type": "code",
   "execution_count": 24,
   "metadata": {},
   "outputs": [],
   "source": [
    "c = np.zeros(states)\n",
    "c.fill(1)\n",
    "x = opt.linprog(c=c, A_ub=A, b_ub=b)\n",
    "value = np.round(x.x, 1)\n"
   ]
  },
  {
   "cell_type": "code",
   "execution_count": 25,
   "metadata": {
    "collapsed": false
   },
   "outputs": [
    {
     "name": "stdout",
     "output_type": "stream",
     "text": [
      "Optimal state-value function:\n22.0       24.4       22.0       19.4       17.5       \n19.8       22.0       19.8       17.8       16.0       \n17.8       19.8       17.8       16.0       14.4       \n16.0       17.8       16.0       14.4       13.0       \n14.4       16.0       14.4       13.0       11.7       \n"
     ]
    }
   ],
   "source": [
    "print(\"Optimal state-value function:\")\n",
    "for i in range(rows):\n",
    "    for j in range(cols):\n",
    "        print(value[map_2d_to_1d(i, j)], end=\"       \" if (value[map_2d_to_1d(i, j)] >= 0) else \"     \")\n",
    "    print(\"\")\n"
   ]
  },
  {
   "cell_type": "code",
   "execution_count": 26,
   "metadata": {},
   "outputs": [
    {
     "name": "stdout",
     "output_type": "stream",
     "text": [
      "Optimal Policy:\nR,   |  R, L, D, U,   |  L,   |  R, L, D, U,   |  L,   |  \nR, U,   |  U,   |  L, U,   |  L,   |  L,   |  \nR, U,   |  U,   |  L, U,   |  L, U,   |  L, U,   |  \nR, U,   |  U,   |  L, U,   |  L, U,   |  L, U,   |  \nR, U,   |  U,   |  L, U,   |  L, U,   |  L, U,   |  "
     ]
    }
   ],
   "source": [
    "print(\"Optimal Policy:\")\n",
    "# Calculating Optimal Policy using optimal value function\n",
    "pi = np.zeros((rows, cols, actions_size))\n",
    "for s in range(states):\n",
    "    q_ = []\n",
    "    for action in actions:\n",
    "        s_, reward = step(s, action)\n",
    "        q_.append(value[s_])\n",
    "\n",
    "    y = np.max(q_)\n",
    "    z = q_.count(y)\n",
    "    x = np.argsort(q_)\n",
    "    i, j = map_1d_to_2d(s)\n",
    "    for k in range(z):\n",
    "        pi[i, j, x[-k - 1]] = 1. \n",
    "        \n",
    "    if s > 0 and s % cols == 0:\n",
    "        print()\n",
    "\n",
    "    for k in range(actions_size):\n",
    "        if pi[i, j, k] > 0:\n",
    "            if k == 0:\n",
    "                print(\"R, \", end=\"\")\n",
    "            elif k == 1:\n",
    "                print(\"L, \", end=\"\")\n",
    "            elif k == 2:\n",
    "                print(\"D, \", end=\"\")\n",
    "            elif k == 3:\n",
    "                print(\"U, \", end=\"\")\n",
    "    print(\"  |  \", end=\"\")\n"
   ]
  },
  {
   "cell_type": "code",
   "execution_count": null,
   "metadata": {},
   "outputs": [],
   "source": []
  }
 ],
 "metadata": {
  "kernelspec": {
   "display_name": "Python 2",
   "language": "python",
   "name": "python2"
  },
  "language_info": {
   "codemirror_mode": {
    "name": "ipython",
    "version": 2
   },
   "file_extension": ".py",
   "mimetype": "text/x-python",
   "name": "python",
   "nbconvert_exporter": "python",
   "pygments_lexer": "ipython2",
   "version": "2.7.6"
  }
 },
 "nbformat": 4,
 "nbformat_minor": 0
}
