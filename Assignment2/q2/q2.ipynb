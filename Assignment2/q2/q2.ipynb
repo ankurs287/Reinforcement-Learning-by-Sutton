{
 "cells": [
  {
   "cell_type": "code",
   "execution_count": null,
   "metadata": {
    "collapsed": true
   },
   "outputs": [],
   "source": [
    "import numpy as np"
   ]
  },
  {
   "cell_type": "code",
   "execution_count": 2,
   "metadata": {
    "collapsed": true
   },
   "outputs": [],
   "source": [
    "rows = cols = 5\n",
    "states = rows * cols\n",
    "actions = [[0, 1], [0, -1], [1, 0], [-1, 0]]  # right, left, down, up"
   ]
  },
  {
   "cell_type": "code",
   "execution_count": 3,
   "metadata": {
    "collapsed": true
   },
   "outputs": [],
   "source": [
    "# Maps indices of 2D array to 1D array index\n",
    "def map_2d_to_1d(i, j):\n",
    "    return i * cols + j\n",
    "\n",
    "# Maps 1D array index to 2D array indices\n",
    "def map_1d_to_2d(s):\n",
    "    i = s // cols\n",
    "    j = s % cols\n",
    "    return i, j\n"
   ]
  },
  {
   "cell_type": "code",
   "execution_count": 4,
   "metadata": {},
   "outputs": [],
   "source": [
    "# Given current state and action taken, returns next state and reward \n",
    "def step(s, action):\n",
    "    i, j = map_1d_to_2d(s)  # current state in the grid world\n",
    "\n",
    "    # if current state is A, return A' and reward of +10\n",
    "    if i == 0 and j == 1:\n",
    "        return map_2d_to_1d(4, 1), 10.\n",
    "\n",
    "    # if current state is B, return B' and reward of +5\n",
    "    if i == 0 and j == 3:\n",
    "        return map_2d_to_1d(2, 3), 5.\n",
    "\n",
    "    i_ = i + action[0]\n",
    "    j_ = j + action[1]\n",
    "\n",
    "    # if not in (A or B) and agent doesn't jumps out of the grid, return next state(i_, j_), and reward value of 0\n",
    "    if 0 <= i_ <= 4 and 0 <= j_ <= 4:\n",
    "        return map_2d_to_1d(i_, j_), 0.\n",
    "    # if not in (A or B) and agent jumps out of the grid, return current state(i, j), and reward value of -1\n",
    "    return map_2d_to_1d(i, j), -1.\n"
   ]
  },
  {
   "cell_type": "code",
   "execution_count": 5,
   "metadata": {},
   "outputs": [],
   "source": [
    "k = 0.9  # discount rate\n",
    "pi = 0.25  # probability of picking an action on any state\n",
    "\n",
    "# We'll solve the linear system Ax=b\n",
    "# where A is |states| x |states| 2D matrix containing coeff. of value function of each state\n",
    "A = np.zeros((states, states))\n",
    "b = np.zeros(states)\n",
    "\n",
    "for s in range(states):\n",
    "    # for each row of A, calculate the coefficient of v(s) for all s\n",
    "    A[s, s] += 1\n",
    "    for action in actions:\n",
    "        s_, reward = step(s, action)\n",
    "        b[s] += pi * reward\n",
    "        A[s, s_] -= pi * k\n"
   ]
  },
  {
   "cell_type": "code",
   "execution_count": 6,
   "metadata": {},
   "outputs": [],
   "source": [
    "# Solve the linear system using numpy linalg library\n",
    "value = np.linalg.solve(A, b)\n",
    "value = np.round(value, 1)"
   ]
  },
  {
   "cell_type": "code",
   "execution_count": 7,
   "metadata": {},
   "outputs": [
    {
     "name": "stdout",
     "output_type": "stream",
     "text": [
      "State value function:\n3.3       8.8       4.4       5.3       1.5       \n1.5       3.0       2.3       1.9       0.5       \n0.1       0.7       0.7       0.4       -0.4     \n-1.0     -0.4     -0.4     -0.6     -1.2     \n-1.9     -1.3     -1.2     -1.4     -2.0     \n"
     ]
    }
   ],
   "source": [
    "print(\"State value function:\")\n",
    "for i in range(rows):\n",
    "    for j in range(cols):\n",
    "        print(value[map_2d_to_1d(i, j)], end=\"       \" if (value[map_2d_to_1d(i, j)] >= 0) else \"     \")\n",
    "    print(\"\")\n"
   ]
  },
  {
   "cell_type": "code",
   "execution_count": null,
   "metadata": {},
   "outputs": [],
   "source": []
  }
 ],
 "metadata": {
  "kernelspec": {
   "display_name": "Python 2",
   "language": "python",
   "name": "python2"
  },
  "language_info": {
   "codemirror_mode": {
    "name": "ipython",
    "version": 2
   },
   "file_extension": ".py",
   "mimetype": "text/x-python",
   "name": "python",
   "nbconvert_exporter": "python",
   "pygments_lexer": "ipython2",
   "version": "2.7.6"
  }
 },
 "nbformat": 4,
 "nbformat_minor": 0
}
